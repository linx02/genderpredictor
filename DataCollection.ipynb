{
 "cells": [
  {
   "cell_type": "markdown",
   "metadata": {},
   "source": [
    "# Data Collection\n",
    "\n",
    "The purpose of this notebook is to get the data from kaggle.\n",
    "Since the dataset is about 200 000 images, but we only need a fraction of that, this notebook will also be responsible for removing unnecessary data and structuring the files."
   ]
  },
  {
   "cell_type": "markdown",
   "metadata": {},
   "source": [
    "_Dataset is already split up into train, test and validation, however we merge all into one and split our data ourselves at a later stage_"
   ]
  },
  {
   "cell_type": "code",
   "execution_count": 11,
   "metadata": {},
   "outputs": [],
   "source": [
    "import os\n",
    "import shutil\n",
    "\n",
    "# Vars\n",
    "DATASET = 'ashishjangra27/gender-recognition-200k-images-celeba'\n",
    "SUBSET_IMGS = 3000\n",
    "ROOT_DIR = os.getcwd()\n",
    "\n",
    "# Set kaggle.json path\n",
    "os.environ['KAGGLE_CONFIG_DIR'] = ROOT_DIR"
   ]
  },
  {
   "cell_type": "code",
   "execution_count": 3,
   "metadata": {},
   "outputs": [
    {
     "name": "stdout",
     "output_type": "stream",
     "text": [
      "Warning: Your Kaggle API key is readable by other users on this system! To fix this, you can run 'chmod 600 /workspaces/genderpredictor/kaggle.json'\n"
     ]
    }
   ],
   "source": [
    "import kaggle\n",
    "\n",
    "# Authenticate\n",
    "kaggle.api.authenticate()\n",
    "\n",
    "# Download dataset\n",
    "kaggle.api.dataset_download_files(DATASET, path=ROOT_DIR, unzip=True)"
   ]
  },
  {
   "cell_type": "code",
   "execution_count": 6,
   "metadata": {},
   "outputs": [],
   "source": [
    "dataset_dir = os.path.join(ROOT_DIR, 'Dataset')  # Dataset folder path\n",
    "dirs = [dir for dir in os.listdir(dataset_dir)]  # ['Train', 'Test', 'Validation']\n",
    "male_dirs = []\n",
    "female_dirs = []\n",
    "\n",
    "# Create lists of all directory paths\n",
    "for dir in dirs:\n",
    "    current_dirs = os.listdir(os.path.join(dataset_dir, dir))\n",
    "    for child in current_dirs:\n",
    "        if child == 'Male':\n",
    "            male_dirs.append(os.path.join(dataset_dir, dir, child))\n",
    "        elif child == 'Female':\n",
    "            female_dirs.append(os.path.join(dataset_dir, dir, child))"
   ]
  },
  {
   "cell_type": "code",
   "execution_count": 17,
   "metadata": {},
   "outputs": [
    {
     "data": {
      "text/plain": [
       "['/workspaces/genderpredictor/Dataset/Validation/Male',\n",
       " '/workspaces/genderpredictor/Dataset/Train/Male',\n",
       " '/workspaces/genderpredictor/Dataset/Test/Male']"
      ]
     },
     "execution_count": 17,
     "metadata": {},
     "output_type": "execute_result"
    }
   ],
   "source": [
    "male_dirs"
   ]
  },
  {
   "cell_type": "code",
   "execution_count": 9,
   "metadata": {},
   "outputs": [],
   "source": [
    "# Create new directories\n",
    "\n",
    "main_dir = 'dataset'\n",
    "\n",
    "os.mkdir(main_dir)\n",
    "\n",
    "male_dir = 'male'\n",
    "female_dir = 'female'\n",
    "\n",
    "os.mkdir(os.path.join(main_dir, male_dir))\n",
    "os.mkdir(os.path.join(main_dir, female_dir))"
   ]
  },
  {
   "cell_type": "code",
   "execution_count": 18,
   "metadata": {},
   "outputs": [],
   "source": [
    "# Copy number of files (SUBSET_IMGS) to new directories\n",
    "def copy_files() -> None:\n",
    "    global male_dirs\n",
    "    global female_dirs\n",
    "    global root_dir\n",
    "    global main_dir\n",
    "    global dataset_dir\n",
    "    subset_size = round(SUBSET_IMGS / len(male_dirs + female_dirs))\n",
    "\n",
    "    for dir in male_dirs:\n",
    "        index = 0\n",
    "        for file in os.listdir(dir):\n",
    "            if index == subset_size:\n",
    "                break\n",
    "            shutil.copy2(os.path.join(dir, file), os.path.join(root_dir, main_dir, 'male'))\n",
    "            index += 1\n",
    "    \n",
    "    for dir in female_dirs:\n",
    "        index = 0\n",
    "        for file in os.listdir(dir):\n",
    "            if index == subset_size:\n",
    "                break\n",
    "            shutil.copy2(os.path.join(dir, file), os.path.join(root_dir, main_dir, 'female'))\n",
    "            index += 1\n",
    "\n",
    "copy_files()"
   ]
  },
  {
   "cell_type": "code",
   "execution_count": 21,
   "metadata": {},
   "outputs": [
    {
     "name": "stdout",
     "output_type": "stream",
     "text": [
      "Male dir: 1500 images\n",
      "Female dir: 1500 images\n",
      "Total: 3000 images\n"
     ]
    }
   ],
   "source": [
    "# Check size of new data\n",
    "male_size = len(os.listdir(os.path.join(main_dir, 'male')))\n",
    "female_size = len(os.listdir(os.path.join(main_dir, 'female')))\n",
    "\n",
    "print(f'Male dir: {male_size} images')\n",
    "print(f'Female dir: {female_size} images')\n",
    "print(f'Total: {male_size + female_size} images')"
   ]
  }
 ],
 "metadata": {
  "kernelspec": {
   "display_name": "Python 3",
   "language": "python",
   "name": "python3"
  },
  "language_info": {
   "codemirror_mode": {
    "name": "ipython",
    "version": 3
   },
   "file_extension": ".py",
   "mimetype": "text/x-python",
   "name": "python",
   "nbconvert_exporter": "python",
   "pygments_lexer": "ipython3",
   "version": "3.10.8"
  }
 },
 "nbformat": 4,
 "nbformat_minor": 2
}
