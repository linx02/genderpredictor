{
 "cells": [
  {
   "cell_type": "markdown",
   "metadata": {},
   "source": [
    "# Data Collection\n",
    "\n",
    "The purpose of this notebook is to get the data from kaggle.\n",
    "Since the dataset is about 200 000 images, but we only need a fraction of that, this notebook will also be responsible for removing unnecessary data and structuring the files."
   ]
  },
  {
   "cell_type": "markdown",
   "metadata": {},
   "source": [
    "_Dataset is already split up into train, test and validation, however we merge all into one and split our data ourselves at a later stage_"
   ]
  },
  {
   "cell_type": "code",
   "execution_count": 1,
   "metadata": {},
   "outputs": [],
   "source": [
    "import os\n",
    "import shutil\n",
    "\n",
    "# Vars\n",
    "DATASET = 'ashishjangra27/gender-recognition-200k-images-celeba'\n",
    "SUBSET_IMGS = 3000\n",
    "ROOT_DIR = os.getcwd()\n",
    "\n",
    "# Set kaggle.json path\n",
    "os.environ['KAGGLE_CONFIG_DIR'] = ROOT_DIR"
   ]
  },
  {
   "cell_type": "code",
   "execution_count": 2,
   "metadata": {
    "tags": []
   },
   "outputs": [
    {
     "output_type": "stream",
     "name": "stdout",
     "text": "Warning: Your Kaggle API key is readable by other users on this system! To fix this, you can run 'chmod 600 /workspaces/genderpredictor/kaggle.json'\nWarning: Your Kaggle API key is readable by other users on this system! To fix this, you can run 'chmod 600 /workspaces/genderpredictor/kaggle.json'\n"
    }
   ],
   "source": [
    "import kaggle\n",
    "\n",
    "# Authenticate\n",
    "kaggle.api.authenticate()\n",
    "\n",
    "# Download dataset\n",
    "kaggle.api.dataset_download_files(DATASET, path=ROOT_DIR, unzip=True)"
   ]
  },
  {
   "cell_type": "code",
   "execution_count": 3,
   "metadata": {},
   "outputs": [],
   "source": [
    "dataset_dir = os.path.join(ROOT_DIR, 'Dataset')  # Dataset folder path\n",
    "dirs = [dir for dir in os.listdir(dataset_dir)]  # ['Train', 'Test', 'Validation']\n",
    "male_dirs = []\n",
    "female_dirs = []\n",
    "\n",
    "# Create lists of all directory paths\n",
    "for dir in dirs:\n",
    "    current_dirs = os.listdir(os.path.join(dataset_dir, dir))\n",
    "    for child in current_dirs:\n",
    "        if child == 'Male':\n",
    "            male_dirs.append(os.path.join(dataset_dir, dir, child))\n",
    "        elif child == 'Female':\n",
    "            female_dirs.append(os.path.join(dataset_dir, dir, child))"
   ]
  },
  {
   "cell_type": "code",
   "execution_count": 4,
   "metadata": {},
   "outputs": [
    {
     "output_type": "execute_result",
     "data": {
      "text/plain": "['/workspaces/genderpredictor/Dataset/Test/Male',\n '/workspaces/genderpredictor/Dataset/Train/Male',\n '/workspaces/genderpredictor/Dataset/Validation/Male']"
     },
     "metadata": {},
     "execution_count": 4
    }
   ],
   "source": [
    "male_dirs"
   ]
  },
  {
   "cell_type": "code",
   "execution_count": 5,
   "metadata": {},
   "outputs": [],
   "source": [
    "# Create new directories\n",
    "\n",
    "main_dir = 'dataset'\n",
    "\n",
    "os.mkdir(main_dir)\n",
    "\n",
    "male_dir = 'male'\n",
    "female_dir = 'female'\n",
    "\n",
    "os.mkdir(os.path.join(main_dir, male_dir))\n",
    "os.mkdir(os.path.join(main_dir, female_dir))"
   ]
  },
  {
   "cell_type": "code",
   "execution_count": 6,
   "metadata": {},
   "outputs": [
    {
     "output_type": "error",
     "ename": "NameError",
     "evalue": "name 'root_dir' is not defined",
     "traceback": [
      "\u001b[0;31m---------------------------------------------------------------------------\u001b[0m",
      "\u001b[0;31mNameError\u001b[0m                                 Traceback (most recent call last)",
      "Cell \u001b[0;32mIn[6], line 26\u001b[0m\n\u001b[1;32m     23\u001b[0m             shutil\u001b[38;5;241m.\u001b[39mcopy2(os\u001b[38;5;241m.\u001b[39mpath\u001b[38;5;241m.\u001b[39mjoin(\u001b[38;5;28mdir\u001b[39m, file), os\u001b[38;5;241m.\u001b[39mpath\u001b[38;5;241m.\u001b[39mjoin(root_dir, main_dir, \u001b[38;5;124m'\u001b[39m\u001b[38;5;124mfemale\u001b[39m\u001b[38;5;124m'\u001b[39m))\n\u001b[1;32m     24\u001b[0m             index \u001b[38;5;241m+\u001b[39m\u001b[38;5;241m=\u001b[39m \u001b[38;5;241m1\u001b[39m\n\u001b[0;32m---> 26\u001b[0m \u001b[43mcopy_files\u001b[49m\u001b[43m(\u001b[49m\u001b[43m)\u001b[49m\n",
      "Cell \u001b[0;32mIn[6], line 15\u001b[0m, in \u001b[0;36mcopy_files\u001b[0;34m()\u001b[0m\n\u001b[1;32m     13\u001b[0m         \u001b[38;5;28;01mif\u001b[39;00m index \u001b[38;5;241m==\u001b[39m subset_size:\n\u001b[1;32m     14\u001b[0m             \u001b[38;5;28;01mbreak\u001b[39;00m\n\u001b[0;32m---> 15\u001b[0m         shutil\u001b[38;5;241m.\u001b[39mcopy2(os\u001b[38;5;241m.\u001b[39mpath\u001b[38;5;241m.\u001b[39mjoin(\u001b[38;5;28mdir\u001b[39m, file), os\u001b[38;5;241m.\u001b[39mpath\u001b[38;5;241m.\u001b[39mjoin(\u001b[43mroot_dir\u001b[49m, main_dir, \u001b[38;5;124m'\u001b[39m\u001b[38;5;124mmale\u001b[39m\u001b[38;5;124m'\u001b[39m))\n\u001b[1;32m     16\u001b[0m         index \u001b[38;5;241m+\u001b[39m\u001b[38;5;241m=\u001b[39m \u001b[38;5;241m1\u001b[39m\n\u001b[1;32m     18\u001b[0m \u001b[38;5;28;01mfor\u001b[39;00m \u001b[38;5;28mdir\u001b[39m \u001b[38;5;129;01min\u001b[39;00m female_dirs:\n",
      "\u001b[0;31mNameError\u001b[0m: name 'root_dir' is not defined"
     ]
    }
   ],
   "source": [
    "# Copy number of files (SUBSET_IMGS) to new directories\n",
    "def copy_files() -> None:\n",
    "    global male_dirs\n",
    "    global female_dirs\n",
    "    global root_dir\n",
    "    global main_dir\n",
    "    global dataset_dir\n",
    "    subset_size = round(SUBSET_IMGS / len(male_dirs + female_dirs))\n",
    "\n",
    "    for dir in male_dirs:\n",
    "        index = 0\n",
    "        for file in os.listdir(dir):\n",
    "            if index == subset_size:\n",
    "                break\n",
    "            shutil.copy2(os.path.join(dir, file), os.path.join(root_dir, main_dir, 'male'))\n",
    "            index += 1\n",
    "    \n",
    "    for dir in female_dirs:\n",
    "        index = 0\n",
    "        for file in os.listdir(dir):\n",
    "            if index == subset_size:\n",
    "                break\n",
    "            shutil.copy2(os.path.join(dir, file), os.path.join(root_dir, main_dir, 'female'))\n",
    "            index += 1\n",
    "\n",
    "copy_files()"
   ]
  },
  {
   "cell_type": "code",
   "execution_count": 6,
   "metadata": {},
   "outputs": [],
   "source": [
    "# Remove original dataset\n",
    "\n",
    "shutil.rmtree(dataset_dir)"
   ]
  },
  {
   "cell_type": "code",
   "execution_count": 7,
   "metadata": {},
   "outputs": [
    {
     "ename": "NameError",
     "evalue": "name 'main_dir' is not defined",
     "output_type": "error",
     "traceback": [
      "\u001b[0;31m---------------------------------------------------------------------------\u001b[0m",
      "\u001b[0;31mNameError\u001b[0m                                 Traceback (most recent call last)",
      "\u001b[1;32m/workspaces/genderpredictor/DataCollection.ipynb Cell 10\u001b[0m line \u001b[0;36m2\n\u001b[1;32m      <a href='vscode-notebook-cell://codespaces%2Bopulent-spork-rjqwx9p745jcg7g/workspaces/genderpredictor/DataCollection.ipynb#X11sdnNjb2RlLXJlbW90ZQ%3D%3D?line=0'>1</a>\u001b[0m \u001b[39m# Check size of new data\u001b[39;00m\n\u001b[0;32m----> <a href='vscode-notebook-cell://codespaces%2Bopulent-spork-rjqwx9p745jcg7g/workspaces/genderpredictor/DataCollection.ipynb#X11sdnNjb2RlLXJlbW90ZQ%3D%3D?line=1'>2</a>\u001b[0m male_size \u001b[39m=\u001b[39m \u001b[39mlen\u001b[39m(os\u001b[39m.\u001b[39mlistdir(os\u001b[39m.\u001b[39mpath\u001b[39m.\u001b[39mjoin(main_dir, \u001b[39m'\u001b[39m\u001b[39mmale\u001b[39m\u001b[39m'\u001b[39m)))\n\u001b[1;32m      <a href='vscode-notebook-cell://codespaces%2Bopulent-spork-rjqwx9p745jcg7g/workspaces/genderpredictor/DataCollection.ipynb#X11sdnNjb2RlLXJlbW90ZQ%3D%3D?line=2'>3</a>\u001b[0m female_size \u001b[39m=\u001b[39m \u001b[39mlen\u001b[39m(os\u001b[39m.\u001b[39mlistdir(os\u001b[39m.\u001b[39mpath\u001b[39m.\u001b[39mjoin(main_dir, \u001b[39m'\u001b[39m\u001b[39mfemale\u001b[39m\u001b[39m'\u001b[39m)))\n\u001b[1;32m      <a href='vscode-notebook-cell://codespaces%2Bopulent-spork-rjqwx9p745jcg7g/workspaces/genderpredictor/DataCollection.ipynb#X11sdnNjb2RlLXJlbW90ZQ%3D%3D?line=4'>5</a>\u001b[0m \u001b[39mprint\u001b[39m(\u001b[39mf\u001b[39m\u001b[39m'\u001b[39m\u001b[39mMale dir: \u001b[39m\u001b[39m{\u001b[39;00mmale_size\u001b[39m}\u001b[39;00m\u001b[39m images\u001b[39m\u001b[39m'\u001b[39m)\n",
      "\u001b[0;31mNameError\u001b[0m: name 'main_dir' is not defined"
     ]
    }
   ],
   "source": [
    "# Check size of new data\n",
    "male_size = len(os.listdir(os.path.join(main_dir, 'male')))\n",
    "female_size = len(os.listdir(os.path.join(main_dir, 'female')))\n",
    "\n",
    "print(f'Male dir: {male_size} images')\n",
    "print(f'Female dir: {female_size} images')\n",
    "print(f'Total: {male_size + female_size} images')"
   ]
  }
 ],
 "metadata": {
  "kernelspec": {
   "display_name": "Python 3.10.6 64-bit",
   "language": "python",
   "name": "python_defaultSpec_1696510690192"
  },
  "language_info": {
   "codemirror_mode": {
    "name": "ipython",
    "version": 3
   },
   "file_extension": ".py",
   "mimetype": "text/x-python",
   "name": "python",
   "nbconvert_exporter": "python",
   "pygments_lexer": "ipython3",
   "version": "3.10.6-final"
  }
 },
 "nbformat": 4,
 "nbformat_minor": 2
}