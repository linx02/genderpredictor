{
 "cells": [
  {
   "cell_type": "markdown",
   "metadata": {},
   "source": [
    "# Data preparation / Model\n",
    "\n",
    "The purpose of this notebook is to prepare the image data aswell as define and train the model."
   ]
  },
  {
   "cell_type": "code",
   "execution_count": 3,
   "metadata": {
    "tags": []
   },
   "outputs": [],
   "source": [
    "# Import libraries\n",
    "import tensorflow as tf\n",
    "from tensorflow.keras.models import Sequential\n",
    "from tensorflow.keras.layers import Conv2D, Dropout, Flatten, Dense, BatchNormalization, MaxPooling2D\n",
    "import cv2\n",
    "from sklearn.model_selection import train_test_split\n",
    "\n",
    "import os\n",
    "import numpy as np\n",
    "import pandas as pd"
   ]
  },
  {
   "cell_type": "code",
   "execution_count": null,
   "metadata": {},
   "outputs": [],
   "source": [
    "# Vars\n",
    "\n",
    "BATCH_SIZE = 4\n",
    "ROOT_DIR = os.getcwd()\n"
   ]
  },
  {
   "cell_type": "code",
   "execution_count": null,
   "metadata": {},
   "outputs": [],
   "source": [
    "# Make sure all images are jpg or png\n",
    "\n",
    "i = 0\n",
    "\n",
    "for dir in dirs:\n",
    "    for img in os.listdir(os.path.join(dir, 'Male')):\n",
    "        if not img.endswith('.jpg') or img.endswith('.png'):\n",
    "            i += 1\n",
    "\n",
    "    for img in os.listdir(os.path.join(dir, 'Female')):\n",
    "        if not img.endswith('.jpg') or img.endswith('.png'):\n",
    "            i += 1\n",
    "print(i)"
   ]
  }
 ],
 "metadata": {
  "kernelspec": {
   "display_name": "Python 3 (ipykernel)",
   "language": "python",
   "name": "python3"
  },
  "language_info": {
   "codemirror_mode": {
    "name": "ipython",
    "version": 3
   },
   "file_extension": ".py",
   "mimetype": "text/x-python",
   "name": "python",
   "nbconvert_exporter": "python",
   "pygments_lexer": "ipython3",
   "version": "3.10.6-final"
  }
 },
 "nbformat": 4,
 "nbformat_minor": 2
}