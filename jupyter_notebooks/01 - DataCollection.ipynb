{
 "cells": [
  {
   "cell_type": "markdown",
   "metadata": {},
   "source": [
    "# Data Collection\n",
    "\n",
    "The purpose of this notebook is to get the data from kaggle.\n",
    "Since the dataset is about 200 000 images, but we only need a fraction of that, this notebook will also be responsible for removing unnecessary data and structuring the files."
   ]
  },
  {
   "cell_type": "markdown",
   "metadata": {},
   "source": [
    "_Dataset is already split up into train, test and validation, however we merge all into one and split our data ourselves at a later stage_"
   ]
  },
  {
   "cell_type": "code",
   "execution_count": 1,
   "metadata": {},
   "outputs": [],
   "source": [
    "import os\n",
    "import shutil\n",
    "\n",
    "# Vars\n",
    "DATASET = 'ashishjangra27/gender-recognition-200k-images-celeba'\n",
    "SUBSET_IMGS = 3000\n",
    "LIVE_PREDICTION_SUBSET = 60\n",
    "\n",
    "ROOT_DIR = os.path.dirname(os.getcwd())\n",
    "LIVE_PREDICTION_DIR = os.path.join(ROOT_DIR, 'assets', 'live_prediction_images')\n",
    "\n",
    "# Set kaggle.json path\n",
    "os.environ['KAGGLE_CONFIG_DIR'] = ROOT_DIR"
   ]
  },
  {
   "cell_type": "code",
   "execution_count": 2,
   "metadata": {
    "tags": []
   },
   "outputs": [
    {
     "name": "stdout",
     "output_type": "stream",
     "text": [
      "Warning: Your Kaggle API key is readable by other users on this system! To fix this, you can run 'chmod 600 /workspace/genderpredictor/kaggle.json'\n",
      "Warning: Your Kaggle API key is readable by other users on this system! To fix this, you can run 'chmod 600 /workspace/genderpredictor/kaggle.json'\n"
     ]
    }
   ],
   "source": [
    "import kaggle\n",
    "\n",
    "# Authenticate\n",
    "kaggle.api.authenticate()\n",
    "\n",
    "# Download dataset\n",
    "kaggle.api.dataset_download_files(DATASET, path=ROOT_DIR, unzip=True)"
   ]
  },
  {
   "cell_type": "code",
   "execution_count": 3,
   "metadata": {},
   "outputs": [],
   "source": [
    "dataset_dir = os.path.join(ROOT_DIR, 'Dataset')  # Dataset folder path\n",
    "dirs = [dir for dir in os.listdir(dataset_dir)]  # ['Train', 'Test', 'Validation']\n",
    "male_dirs = []\n",
    "female_dirs = []\n",
    "\n",
    "# Create lists of all directory paths\n",
    "for dir in dirs:\n",
    "    current_dirs = os.listdir(os.path.join(dataset_dir, dir))\n",
    "    for child in current_dirs:\n",
    "        if child == 'Male':\n",
    "            male_dirs.append(os.path.join(dataset_dir, dir, child))\n",
    "        elif child == 'Female':\n",
    "            female_dirs.append(os.path.join(dataset_dir, dir, child))"
   ]
  },
  {
   "cell_type": "code",
   "execution_count": 4,
   "metadata": {},
   "outputs": [
    {
     "data": {
      "text/plain": [
       "['/workspace/genderpredictor/Dataset/Test/Male',\n",
       " '/workspace/genderpredictor/Dataset/Train/Male',\n",
       " '/workspace/genderpredictor/Dataset/Validation/Male']"
      ]
     },
     "execution_count": 4,
     "metadata": {},
     "output_type": "execute_result"
    }
   ],
   "source": [
    "male_dirs"
   ]
  },
  {
   "cell_type": "code",
   "execution_count": 29,
   "metadata": {},
   "outputs": [],
   "source": [
    "# Create new directories\n",
    "\n",
    "main_dir = 'temp_dataset'\n",
    "\n",
    "os.mkdir(os.path.join(ROOT_DIR, main_dir))\n",
    "\n",
    "male_dir = 'male'\n",
    "female_dir = 'female'\n",
    "\n",
    "os.mkdir(os.path.join(ROOT_DIR, main_dir, male_dir))\n",
    "os.mkdir(os.path.join(ROOT_DIR, main_dir, female_dir))"
   ]
  },
  {
   "cell_type": "code",
   "execution_count": 30,
   "metadata": {},
   "outputs": [],
   "source": [
    "# Copy number of files SUBSET_IMGS to new dataset directories and number of files LIVE_PREDICTION_SUBSET to directory\n",
    "def copy_files():\n",
    "    global male_dirs\n",
    "    global female_dirs\n",
    "    global ROOT_DIR\n",
    "    global main_dir\n",
    "\n",
    "    subset_size = round(SUBSET_IMGS / len(male_dirs + female_dirs))\n",
    "    subset_size_live_prediction = round(LIVE_PREDICTION_SUBSET / len(male_dirs + female_dirs))\n",
    "    \n",
    "    # Copy dataset images\n",
    "    for male_dir, female_dir in zip(male_dirs, female_dirs):\n",
    "        index = 0\n",
    "        for male_file, female_file in zip(os.listdir(male_dir), os.listdir(female_dir)):\n",
    "            if index == subset_size:\n",
    "                break\n",
    "            shutil.copy2(os.path.join(male_dir, male_file), os.path.join(ROOT_DIR, main_dir, 'male'))\n",
    "            shutil.copy2(os.path.join(female_dir, female_file), os.path.join(ROOT_DIR, main_dir, 'female'))\n",
    "            index += 1\n",
    "    \n",
    "    # Copy live prediction images\n",
    "    for male_dir, female_dir in zip(male_dirs, female_dirs):\n",
    "        index = 0\n",
    "        for male_file, female_file in zip(os.listdir(male_dir)[subset_size+1:], os.listdir(female_dir)[subset_size+1:]):\n",
    "            if index == subset_size_live_prediction:\n",
    "                break\n",
    "            shutil.copy2(os.path.join(male_dir, male_file), os.path.join(ROOT_DIR, LIVE_PREDICTION_DIR, 'male'))\n",
    "            shutil.copy2(os.path.join(female_dir, female_file), os.path.join(ROOT_DIR, LIVE_PREDICTION_DIR, 'female'))\n",
    "            index += 1\n",
    "\n",
    "copy_files()"
   ]
  },
  {
   "cell_type": "code",
   "execution_count": 31,
   "metadata": {},
   "outputs": [],
   "source": [
    "# Remove original dataset\n",
    "\n",
    "shutil.rmtree(dataset_dir)"
   ]
  },
  {
   "cell_type": "code",
   "execution_count": 33,
   "metadata": {
    "tags": []
   },
   "outputs": [
    {
     "name": "stdout",
     "output_type": "stream",
     "text": [
      "Male dir in dataset: 1500 images\n",
      "Female dir in dataset: 1500 images\n",
      "Total in dataset: 3000 images\n",
      "Male dir in live prediction folder: 30 images\n",
      "Female dir in live prediction folder: 30 images\n",
      "Total in live prediction folder: 60 images\n"
     ]
    }
   ],
   "source": [
    "# Check size of new data\n",
    "male_size = len(os.listdir(os.path.join(ROOT_DIR, main_dir, 'male')))\n",
    "female_size = len(os.listdir(os.path.join(ROOT_DIR, main_dir, 'female')))\n",
    "live_prediction_male_size = len(os.listdir(os.path.join(ROOT_DIR, LIVE_PREDICTION_DIR, 'male')))\n",
    "live_prediction_female_size = len(os.listdir(os.path.join(ROOT_DIR, LIVE_PREDICTION_DIR, 'female')))\n",
    "\n",
    "print(f'Male dir in dataset: {male_size} images')\n",
    "print(f'Female dir in dataset: {female_size} images')\n",
    "print(f'Total in dataset: {male_size + female_size} images')\n",
    "\n",
    "print(f'Male dir in live prediction folder: {live_prediction_male_size} images')\n",
    "print(f'Female dir in live prediction folder: {live_prediction_female_size} images')\n",
    "print(f'Total in live prediction folder: {live_prediction_male_size + live_prediction_female_size} images')"
   ]
  },
  {
   "cell_type": "code",
   "execution_count": 34,
   "metadata": {},
   "outputs": [],
   "source": [
    "# Rename temp_dataset to dataset\n",
    "os.rename(os.path.join(ROOT_DIR, main_dir), os.path.join(ROOT_DIR, 'dataset'))"
   ]
  }
 ],
 "metadata": {
  "kernelspec": {
   "display_name": "Python 3",
   "language": "python",
   "name": "python3"
  },
  "language_info": {
   "codemirror_mode": {
    "name": "ipython",
    "version": 3
   },
   "file_extension": ".py",
   "mimetype": "text/x-python",
   "name": "python",
   "nbconvert_exporter": "python",
   "pygments_lexer": "ipython3",
   "version": "3.11.6"
  }
 },
 "nbformat": 4,
 "nbformat_minor": 2
}
