{
 "cells": [
  {
   "cell_type": "markdown",
   "metadata": {},
   "source": [
    "# Data preparation / Model\n",
    "\n",
    "The purpose of this notebook is to prepare the image data aswell as define and train the model."
   ]
  },
  {
   "attachments": {},
   "cell_type": "markdown",
   "metadata": {},
   "source": [
    "## Configuration\n",
    "\n",
    "This unit imports necessary libraries and defines settings for the model. It also validates the dataset."
   ]
  },
  {
   "cell_type": "code",
   "execution_count": 1,
   "metadata": {
    "tags": []
   },
   "outputs": [
    {
     "name": "stderr",
     "output_type": "stream",
     "text": [
      "2023-10-12 11:07:48.800797: I tensorflow/tsl/cuda/cudart_stub.cc:28] Could not find cuda drivers on your machine, GPU will not be used.\n",
      "2023-10-12 11:07:49.116744: E tensorflow/compiler/xla/stream_executor/cuda/cuda_dnn.cc:9342] Unable to register cuDNN factory: Attempting to register factory for plugin cuDNN when one has already been registered\n",
      "2023-10-12 11:07:49.116791: E tensorflow/compiler/xla/stream_executor/cuda/cuda_fft.cc:609] Unable to register cuFFT factory: Attempting to register factory for plugin cuFFT when one has already been registered\n",
      "2023-10-12 11:07:49.116831: E tensorflow/compiler/xla/stream_executor/cuda/cuda_blas.cc:1518] Unable to register cuBLAS factory: Attempting to register factory for plugin cuBLAS when one has already been registered\n",
      "2023-10-12 11:07:49.217095: I tensorflow/tsl/cuda/cudart_stub.cc:28] Could not find cuda drivers on your machine, GPU will not be used.\n",
      "2023-10-12 11:07:49.218103: I tensorflow/core/platform/cpu_feature_guard.cc:182] This TensorFlow binary is optimized to use available CPU instructions in performance-critical operations.\n",
      "To enable the following instructions: AVX2 FMA, in other operations, rebuild TensorFlow with the appropriate compiler flags.\n",
      "2023-10-12 11:07:50.835255: W tensorflow/compiler/tf2tensorrt/utils/py_utils.cc:38] TF-TRT Warning: Could not find TensorRT\n"
     ]
    }
   ],
   "source": [
    "# Import libraries\n",
    "import tensorflow as tf\n",
    "from tensorflow.keras.models import Sequential\n",
    "from tensorflow.keras.optimizers import Adam\n",
    "from tensorflow.keras.preprocessing.image import ImageDataGenerator\n",
    "from scikeras.wrappers import KerasClassifier\n",
    "from tensorflow.keras.layers import Conv2D, Dropout, Flatten, Dense, BatchNormalization, MaxPooling2D\n",
    "import cv2\n",
    "from sklearn.model_selection import GridSearchCV\n",
    "from sklearn.metrics import classification_report\n",
    "from sklearn.metrics import confusion_matrix, accuracy_score, precision_score, recall_score, f1_score\n",
    "\n",
    "import os\n",
    "import numpy as np\n",
    "import pandas as pd\n",
    "import matplotlib.pyplot as plt\n",
    "import seaborn as sns\n",
    "\n",
    "import dataset"
   ]
  },
  {
   "cell_type": "code",
   "execution_count": 2,
   "metadata": {},
   "outputs": [],
   "source": [
    "# Vars\n",
    "BATCH_SIZE = 4\n",
    "EPOCHS = 10\n",
    "MODEL_NAME = 'model_final'\n",
    "LOSS = 'binary_crossentropy'\n",
    "METRICS = ['accuracy']\n",
    "\n",
    "IMAGES_DIR = os.path.join(dataset.ROOT_DIR, 'assets', 'images')\n",
    "save_figure = lambda filename: plt.savefig(os.path.join(IMAGES_DIR, filename))"
   ]
  },
  {
   "cell_type": "code",
   "execution_count": 3,
   "metadata": {},
   "outputs": [],
   "source": [
    "# Initialize project dataset object\n",
    "project_dataset = dataset.ProjectDataset()"
   ]
  },
  {
   "cell_type": "code",
   "execution_count": 4,
   "metadata": {},
   "outputs": [
    {
     "name": "stdout",
     "output_type": "stream",
     "text": [
      "Invalid images: 0\n"
     ]
    }
   ],
   "source": [
    "# Make sure all images are jpg or png\n",
    "invalid_images = 0\n",
    "\n",
    "for file in project_dataset.image_filepaths()['all']['all']:\n",
    "    if not file.endswith('.jpg') or file.endswith('.png'):\n",
    "        invalid_images += 1\n",
    "        \n",
    "print(f'Invalid images: {invalid_images}')"
   ]
  },
  {
   "cell_type": "markdown",
   "metadata": {},
   "source": [
    "## Data preparation & Image augmentation\n",
    "\n",
    "__This unit prepares the data using the following steps:__\n",
    "\n",
    "    - Defines X and y variables from dataset\n",
    "    - One-hot encodes the y variables\n",
    "    - Creates tensorflow datasets\n",
    "    - Performs image augmentation on the datasets\n",
    "    - Shuffle and batches the datasets"
   ]
  },
  {
   "cell_type": "code",
   "execution_count": 5,
   "metadata": {},
   "outputs": [],
   "source": [
    "# Load images and labels as np array\n",
    "images = project_dataset.images_array(normalize=True, resize=True)\n",
    "labels = project_dataset.labels()\n",
    "\n",
    "# Define X and y vars\n",
    "X_train = images['train']['all']\n",
    "y_train = labels['train']['all']\n",
    "\n",
    "X_test = images['test']['all']\n",
    "y_test = labels['test']['all']\n",
    "\n",
    "X_val = images['val']['all']\n",
    "y_val = labels['val']['all']"
   ]
  },
  {
   "cell_type": "code",
   "execution_count": 6,
   "metadata": {},
   "outputs": [],
   "source": [
    "# Flatten and reshape arrays for tensorflow data api\n",
    "X_train = np.array([image.flatten() for image in X_train])\n",
    "X_test = np.array([image.flatten() for image in X_test])\n",
    "X_val = np.array([image.flatten() for image in X_val])\n",
    "\n",
    "X_train = X_train.reshape(-1, 200, 200, 3)\n",
    "X_test = X_test.reshape(-1, 200, 200, 3)\n",
    "X_val = X_val.reshape(-1, 200, 200, 3)"
   ]
  },
  {
   "cell_type": "code",
   "execution_count": 7,
   "metadata": {},
   "outputs": [],
   "source": [
    "# One hot encode labels\n",
    "from tensorflow.keras.utils import to_categorical\n",
    "\n",
    "y_train = to_categorical(y=y_train, num_classes=2)\n",
    "y_test = to_categorical(y=y_test, num_classes=2)\n",
    "y_val = to_categorical(y=y_val, num_classes=2)"
   ]
  },
  {
   "cell_type": "code",
   "execution_count": 8,
   "metadata": {},
   "outputs": [
    {
     "name": "stderr",
     "output_type": "stream",
     "text": [
      "2023-10-12 11:08:05.032818: W tensorflow/tsl/framework/cpu_allocator_impl.cc:83] Allocation of 1728000000 exceeds 10% of free system memory.\n",
      "2023-10-12 11:08:07.603435: W tensorflow/tsl/framework/cpu_allocator_impl.cc:83] Allocation of 576000000 exceeds 10% of free system memory.\n",
      "2023-10-12 11:08:09.652550: W tensorflow/tsl/framework/cpu_allocator_impl.cc:83] Allocation of 576000000 exceeds 10% of free system memory.\n"
     ]
    }
   ],
   "source": [
    "# Create tensorflow datasets\n",
    "train_dataset = tf.data.Dataset.from_tensor_slices((X_train, y_train))\n",
    "test_dataset = tf.data.Dataset.from_tensor_slices((X_test, y_test))\n",
    "val_dataset = tf.data.Dataset.from_tensor_slices((X_val, y_val))"
   ]
  },
  {
   "cell_type": "code",
   "execution_count": 9,
   "metadata": {},
   "outputs": [],
   "source": [
    "# Perform image augmentation\n",
    "def apply_augmentation(image, label):\n",
    "    # Apply image augmentation operations\n",
    "    image = tf.image.random_flip_left_right(image)\n",
    "    image = tf.image.random_brightness(image, max_delta=0.2)\n",
    "\n",
    "    return image, label\n",
    "\n",
    "# Apply to the dataset\n",
    "train_dataset = train_dataset.map(apply_augmentation)"
   ]
  },
  {
   "cell_type": "code",
   "execution_count": 10,
   "metadata": {},
   "outputs": [],
   "source": [
    "# Shuffle, prefetch and batch datasets\n",
    "train_dataset = train_dataset.shuffle(buffer_size=1000)\n",
    "test_dataset = train_dataset.shuffle(buffer_size=1000)\n",
    "val_dataset = train_dataset.shuffle(buffer_size=1000)\n",
    "\n",
    "train_dataset = train_dataset.prefetch(tf.data.AUTOTUNE)\n",
    "train_dataset = train_dataset.batch(BATCH_SIZE)\n",
    "test_dataset = test_dataset.batch(BATCH_SIZE)\n",
    "val_dataset = val_dataset.batch(BATCH_SIZE)"
   ]
  },
  {
   "attachments": {},
   "cell_type": "markdown",
   "metadata": {},
   "source": [
    "## Define model\n",
    "\n",
    "This unit defines the model architecture and compiles the model using provided settings."
   ]
  },
  {
   "cell_type": "code",
   "execution_count": 11,
   "metadata": {},
   "outputs": [],
   "source": [
    "def create_model(hidden_layer_size, filters, dropout, learning_rate):\n",
    "    # Pull in vars\n",
    "    global BATCH_SIZE\n",
    "    global LOSS\n",
    "    global METRICS\n",
    "\n",
    "    # Define model architecture\n",
    "    model = Sequential()\n",
    "\n",
    "    model.add(Conv2D(filters[0], (3, 3), 1, activation='relu', input_shape=(200, 200, 3)))\n",
    "    model.add(BatchNormalization())\n",
    "    model.add(MaxPooling2D())\n",
    "    model.add(Dropout(dropout[0]))\n",
    "\n",
    "    model.add(Conv2D(filters[1], (3, 3), 1, activation='relu'))\n",
    "    model.add(BatchNormalization())\n",
    "\n",
    "    model.add(Conv2D(filters[1], (3, 3), 1, activation='relu'))\n",
    "    model.add(BatchNormalization())\n",
    "    model.add(MaxPooling2D())\n",
    "    model.add(Dropout(dropout[0]))\n",
    "\n",
    "    model.add(Conv2D(filters[2], (3, 3), 1, activation='relu'))\n",
    "    model.add(BatchNormalization())\n",
    "\n",
    "    model.add(Conv2D(filters[2], (3, 3), 1, activation='relu'))\n",
    "    model.add(BatchNormalization())\n",
    "    model.add(MaxPooling2D())\n",
    "    model.add(Dropout(dropout[1]))\n",
    "\n",
    "    model.add(Flatten())\n",
    "    model.add(Dense(hidden_layer_size, activation='relu'))\n",
    "\n",
    "    model.add(Dense(2, activation='sigmoid'))\n",
    "\n",
    "    optimizer = Adam(learning_rate=learning_rate)\n",
    "    model.compile(optimizer='adam', loss=LOSS, metrics=METRICS)\n",
    "    \n",
    "    return model"
   ]
  },
  {
   "cell_type": "markdown",
   "metadata": {},
   "source": [
    "# Hyperparameter optimization\n",
    "\n",
    "This unit aims to find the optimal hyperparameters for training the model using GridSearchCV"
   ]
  },
  {
   "cell_type": "code",
   "execution_count": 12,
   "metadata": {},
   "outputs": [],
   "source": [
    "# Wrap model in KerasClassifier for compatibility with scikit-learn\n",
    "# Specified values below are required default values, these will not be used during GridSearch\n",
    "model = KerasClassifier(model=create_model, learning_rate=0.0, hidden_layer_size=0, filters=(0, 0, 0), dropout=(0, 0))"
   ]
  },
  {
   "cell_type": "code",
   "execution_count": 13,
   "metadata": {},
   "outputs": [],
   "source": [
    "# Define parameters to explore\n",
    "param_grid = {\n",
    "    'hidden_layer_size': [256, 512],\n",
    "    'learning_rate': [0.01, 0.001],\n",
    "    'filters': [(8, 16, 32), (16, 32, 64)],\n",
    "    'dropout': [(0.1, 0.3), (0.25, 0.5)]\n",
    "}"
   ]
  },
  {
   "cell_type": "code",
   "execution_count": 14,
   "metadata": {},
   "outputs": [],
   "source": [
    "# Define GridSearchCV object\n",
    "search = GridSearchCV(\n",
    "    estimator=model,\n",
    "    param_grid=param_grid,\n",
    "    cv=4,\n",
    ")"
   ]
  },
  {
   "cell_type": "code",
   "execution_count": 15,
   "metadata": {},
   "outputs": [
    {
     "name": "stderr",
     "output_type": "stream",
     "text": [
      "2023-10-12 11:08:22.937145: W tensorflow/tsl/framework/cpu_allocator_impl.cc:83] Allocation of 648000000 exceeds 10% of free system memory.\n"
     ]
    },
    {
     "name": "stdout",
     "output_type": "stream",
     "text": [
      "43/43 [==============================] - 15s 282ms/step - loss: 2.0373 - accuracy: 0.6993\n",
      "15/15 [==============================] - 1s 51ms/step\n"
     ]
    },
    {
     "name": "stderr",
     "output_type": "stream",
     "text": [
      "2023-10-12 11:08:50.109750: W tensorflow/tsl/framework/cpu_allocator_impl.cc:83] Allocation of 648000000 exceeds 10% of free system memory.\n"
     ]
    },
    {
     "name": "stdout",
     "output_type": "stream",
     "text": [
      "43/43 [==============================] - 12s 236ms/step - loss: 1.1838 - accuracy: 0.6911\n",
      "15/15 [==============================] - 1s 47ms/step\n",
      "43/43 [==============================] - 12s 242ms/step - loss: 1.3271 - accuracy: 0.7259\n",
      "15/15 [==============================] - 1s 48ms/step\n",
      "43/43 [==============================] - 12s 235ms/step - loss: 1.1825 - accuracy: 0.7578\n",
      "15/15 [==============================] - 1s 49ms/step\n",
      "43/43 [==============================] - 12s 237ms/step - loss: 1.3917 - accuracy: 0.7037\n",
      "15/15 [==============================] - 1s 50ms/step\n",
      "43/43 [==============================] - 12s 236ms/step - loss: 1.3965 - accuracy: 0.6437\n",
      "15/15 [==============================] - 1s 46ms/step\n",
      "43/43 [==============================] - 12s 235ms/step - loss: 1.2962 - accuracy: 0.7237\n",
      "15/15 [==============================] - 1s 46ms/step\n",
      "43/43 [==============================] - 12s 237ms/step - loss: 1.2013 - accuracy: 0.7444\n",
      "15/15 [==============================] - 1s 46ms/step\n",
      "43/43 [==============================] - 13s 257ms/step - loss: 1.1089 - accuracy: 0.7474\n",
      "15/15 [==============================] - 1s 47ms/step\n",
      "43/43 [==============================] - 13s 253ms/step - loss: 1.5282 - accuracy: 0.7193\n",
      "15/15 [==============================] - 1s 48ms/step\n",
      "43/43 [==============================] - 14s 254ms/step - loss: 2.7441 - accuracy: 0.6815\n",
      "15/15 [==============================] - 1s 54ms/step\n",
      "43/43 [==============================] - 13s 256ms/step - loss: 1.6751 - accuracy: 0.6948\n",
      "15/15 [==============================] - 1s 51ms/step\n",
      "43/43 [==============================] - 13s 252ms/step - loss: 2.0326 - accuracy: 0.6778\n",
      "15/15 [==============================] - 1s 49ms/step\n",
      "43/43 [==============================] - 13s 252ms/step - loss: 1.7504 - accuracy: 0.7007\n",
      "15/15 [==============================] - 1s 52ms/step\n",
      "43/43 [==============================] - 13s 253ms/step - loss: 1.7737 - accuracy: 0.7281\n",
      "15/15 [==============================] - 1s 61ms/step\n",
      "43/43 [==============================] - 13s 252ms/step - loss: 1.9351 - accuracy: 0.7274\n",
      "15/15 [==============================] - 1s 48ms/step\n",
      "43/43 [==============================] - 23s 486ms/step - loss: 2.0069 - accuracy: 0.6933\n",
      "15/15 [==============================] - 2s 99ms/step\n",
      "43/43 [==============================] - 25s 499ms/step - loss: 1.8050 - accuracy: 0.7259\n",
      "15/15 [==============================] - 2s 98ms/step\n",
      "43/43 [==============================] - 23s 491ms/step - loss: 1.8510 - accuracy: 0.7519\n",
      "15/15 [==============================] - 2s 100ms/step\n",
      "43/43 [==============================] - 23s 479ms/step - loss: 3.2241 - accuracy: 0.6926\n",
      "15/15 [==============================] - 2s 105ms/step\n",
      "43/43 [==============================] - 24s 487ms/step - loss: 1.9870 - accuracy: 0.7119\n",
      "15/15 [==============================] - 2s 105ms/step\n",
      "43/43 [==============================] - 24s 496ms/step - loss: 2.6078 - accuracy: 0.7044\n",
      "15/15 [==============================] - 2s 114ms/step\n",
      "43/43 [==============================] - 24s 488ms/step - loss: 2.3525 - accuracy: 0.7096\n",
      "15/15 [==============================] - 2s 105ms/step\n",
      "43/43 [==============================] - 25s 489ms/step - loss: 1.9833 - accuracy: 0.7170\n",
      "15/15 [==============================] - 2s 102ms/step\n",
      "43/43 [==============================] - 35s 747ms/step - loss: 3.6125 - accuracy: 0.7222\n",
      "15/15 [==============================] - 2s 102ms/step\n",
      "43/43 [==============================] - 28s 536ms/step - loss: 2.8064 - accuracy: 0.7089\n",
      "15/15 [==============================] - 2s 115ms/step\n",
      "43/43 [==============================] - 26s 534ms/step - loss: 2.6760 - accuracy: 0.7193\n",
      "15/15 [==============================] - 2s 102ms/step\n",
      "43/43 [==============================] - 26s 540ms/step - loss: 2.1264 - accuracy: 0.7356\n",
      "15/15 [==============================] - 2s 103ms/step\n",
      "43/43 [==============================] - 26s 536ms/step - loss: 3.1245 - accuracy: 0.7356\n",
      "15/15 [==============================] - 2s 99ms/step\n",
      "43/43 [==============================] - 25s 535ms/step - loss: 2.6633 - accuracy: 0.6970\n",
      "15/15 [==============================] - 2s 104ms/step\n",
      "43/43 [==============================] - 25s 524ms/step - loss: 3.3501 - accuracy: 0.6207\n",
      "15/15 [==============================] - 2s 97ms/step\n",
      "43/43 [==============================] - 33s 699ms/step - loss: 3.0250 - accuracy: 0.7230\n",
      "15/15 [==============================] - 2s 98ms/step\n",
      "43/43 [==============================] - 12s 237ms/step - loss: 1.6092 - accuracy: 0.6830\n",
      "15/15 [==============================] - 1s 45ms/step\n",
      "43/43 [==============================] - 21s 449ms/step - loss: 1.4051 - accuracy: 0.7096\n",
      "15/15 [==============================] - 1s 46ms/step\n",
      "43/43 [==============================] - 20s 411ms/step - loss: 1.9453 - accuracy: 0.7007\n",
      "15/15 [==============================] - 2s 130ms/step\n",
      "43/43 [==============================] - 17s 313ms/step - loss: 1.2439 - accuracy: 0.7504\n",
      "15/15 [==============================] - 2s 135ms/step\n",
      "43/43 [==============================] - 15s 277ms/step - loss: 1.1701 - accuracy: 0.7274\n",
      "15/15 [==============================] - 1s 48ms/step\n",
      "43/43 [==============================] - 12s 237ms/step - loss: 1.9786 - accuracy: 0.6985\n",
      "15/15 [==============================] - 1s 48ms/step\n",
      "43/43 [==============================] - 12s 239ms/step - loss: 1.3640 - accuracy: 0.6356\n",
      "15/15 [==============================] - 1s 47ms/step\n",
      "43/43 [==============================] - 12s 236ms/step - loss: 1.5839 - accuracy: 0.5489\n",
      "15/15 [==============================] - 1s 45ms/step\n",
      "43/43 [==============================] - 13s 252ms/step - loss: 1.5942 - accuracy: 0.7141\n",
      "15/15 [==============================] - 1s 47ms/step\n",
      "43/43 [==============================] - 22s 462ms/step - loss: 2.3329 - accuracy: 0.6052\n",
      "15/15 [==============================] - 1s 50ms/step\n",
      "43/43 [==============================] - 13s 251ms/step - loss: 1.6277 - accuracy: 0.7356\n",
      "15/15 [==============================] - 1s 46ms/step\n",
      "43/43 [==============================] - 22s 463ms/step - loss: 1.5812 - accuracy: 0.6926\n",
      "15/15 [==============================] - 1s 48ms/step\n",
      "43/43 [==============================] - 23s 477ms/step - loss: 2.3021 - accuracy: 0.6978\n",
      "15/15 [==============================] - 1s 48ms/step\n",
      "43/43 [==============================] - 23s 480ms/step - loss: 1.3712 - accuracy: 0.7452\n",
      "15/15 [==============================] - 1s 49ms/step\n",
      "43/43 [==============================] - 20s 426ms/step - loss: 2.3033 - accuracy: 0.7007\n",
      "15/15 [==============================] - 2s 141ms/step\n",
      "43/43 [==============================] - 14s 253ms/step - loss: 1.4629 - accuracy: 0.6941\n",
      "15/15 [==============================] - 1s 50ms/step\n",
      "43/43 [==============================] - 33s 713ms/step - loss: 3.5540 - accuracy: 0.6963\n",
      "15/15 [==============================] - 2s 98ms/step\n",
      "43/43 [==============================] - 23s 485ms/step - loss: 2.1984 - accuracy: 0.7281\n",
      "15/15 [==============================] - 2s 100ms/step\n",
      "43/43 [==============================] - 25s 526ms/step - loss: 2.4453 - accuracy: 0.6807\n",
      "15/15 [==============================] - 4s 272ms/step\n",
      "43/43 [==============================] - 25s 509ms/step - loss: 2.1229 - accuracy: 0.7096\n",
      "15/15 [==============================] - 2s 98ms/step\n",
      "43/43 [==============================] - 23s 483ms/step - loss: 2.7096 - accuracy: 0.6978\n",
      "15/15 [==============================] - 2s 99ms/step\n",
      "43/43 [==============================] - 23s 476ms/step - loss: 2.6794 - accuracy: 0.7237\n",
      "15/15 [==============================] - 2s 95ms/step\n",
      "43/43 [==============================] - 33s 711ms/step - loss: 2.1326 - accuracy: 0.6733\n",
      "15/15 [==============================] - 2s 96ms/step\n",
      "43/43 [==============================] - 23s 482ms/step - loss: 2.3306 - accuracy: 0.7230\n",
      "15/15 [==============================] - 2s 94ms/step\n",
      "43/43 [==============================] - 25s 525ms/step - loss: 3.6604 - accuracy: 0.7022\n",
      "15/15 [==============================] - 2s 100ms/step\n",
      "43/43 [==============================] - 38s 817ms/step - loss: 4.2564 - accuracy: 0.6637\n",
      "15/15 [==============================] - 4s 285ms/step\n",
      "43/43 [==============================] - 35s 750ms/step - loss: 2.8778 - accuracy: 0.7304\n",
      "15/15 [==============================] - 2s 95ms/step\n",
      "43/43 [==============================] - 25s 527ms/step - loss: 2.5825 - accuracy: 0.7111\n",
      "15/15 [==============================] - 2s 100ms/step\n",
      "43/43 [==============================] - 39s 760ms/step - loss: 2.5265 - accuracy: 0.7163\n",
      "15/15 [==============================] - 2s 101ms/step\n",
      "43/43 [==============================] - 34s 752ms/step - loss: 2.6650 - accuracy: 0.6963\n",
      "15/15 [==============================] - 2s 103ms/step\n",
      "43/43 [==============================] - 34s 755ms/step - loss: 4.5545 - accuracy: 0.6881\n",
      "15/15 [==============================] - 2s 99ms/step\n",
      "43/43 [==============================] - 34s 752ms/step - loss: 4.7279 - accuracy: 0.6726\n",
      "15/15 [==============================] - 2s 97ms/step\n",
      "57/57 [==============================] - 29s 484ms/step - loss: 2.0605 - accuracy: 0.6956\n"
     ]
    },
    {
     "data": {
      "text/html": [
       "<style>#sk-container-id-1 {color: black;}#sk-container-id-1 pre{padding: 0;}#sk-container-id-1 div.sk-toggleable {background-color: white;}#sk-container-id-1 label.sk-toggleable__label {cursor: pointer;display: block;width: 100%;margin-bottom: 0;padding: 0.3em;box-sizing: border-box;text-align: center;}#sk-container-id-1 label.sk-toggleable__label-arrow:before {content: \"▸\";float: left;margin-right: 0.25em;color: #696969;}#sk-container-id-1 label.sk-toggleable__label-arrow:hover:before {color: black;}#sk-container-id-1 div.sk-estimator:hover label.sk-toggleable__label-arrow:before {color: black;}#sk-container-id-1 div.sk-toggleable__content {max-height: 0;max-width: 0;overflow: hidden;text-align: left;background-color: #f0f8ff;}#sk-container-id-1 div.sk-toggleable__content pre {margin: 0.2em;color: black;border-radius: 0.25em;background-color: #f0f8ff;}#sk-container-id-1 input.sk-toggleable__control:checked~div.sk-toggleable__content {max-height: 200px;max-width: 100%;overflow: auto;}#sk-container-id-1 input.sk-toggleable__control:checked~label.sk-toggleable__label-arrow:before {content: \"▾\";}#sk-container-id-1 div.sk-estimator input.sk-toggleable__control:checked~label.sk-toggleable__label {background-color: #d4ebff;}#sk-container-id-1 div.sk-label input.sk-toggleable__control:checked~label.sk-toggleable__label {background-color: #d4ebff;}#sk-container-id-1 input.sk-hidden--visually {border: 0;clip: rect(1px 1px 1px 1px);clip: rect(1px, 1px, 1px, 1px);height: 1px;margin: -1px;overflow: hidden;padding: 0;position: absolute;width: 1px;}#sk-container-id-1 div.sk-estimator {font-family: monospace;background-color: #f0f8ff;border: 1px dotted black;border-radius: 0.25em;box-sizing: border-box;margin-bottom: 0.5em;}#sk-container-id-1 div.sk-estimator:hover {background-color: #d4ebff;}#sk-container-id-1 div.sk-parallel-item::after {content: \"\";width: 100%;border-bottom: 1px solid gray;flex-grow: 1;}#sk-container-id-1 div.sk-label:hover label.sk-toggleable__label {background-color: #d4ebff;}#sk-container-id-1 div.sk-serial::before {content: \"\";position: absolute;border-left: 1px solid gray;box-sizing: border-box;top: 0;bottom: 0;left: 50%;z-index: 0;}#sk-container-id-1 div.sk-serial {display: flex;flex-direction: column;align-items: center;background-color: white;padding-right: 0.2em;padding-left: 0.2em;position: relative;}#sk-container-id-1 div.sk-item {position: relative;z-index: 1;}#sk-container-id-1 div.sk-parallel {display: flex;align-items: stretch;justify-content: center;background-color: white;position: relative;}#sk-container-id-1 div.sk-item::before, #sk-container-id-1 div.sk-parallel-item::before {content: \"\";position: absolute;border-left: 1px solid gray;box-sizing: border-box;top: 0;bottom: 0;left: 50%;z-index: -1;}#sk-container-id-1 div.sk-parallel-item {display: flex;flex-direction: column;z-index: 1;position: relative;background-color: white;}#sk-container-id-1 div.sk-parallel-item:first-child::after {align-self: flex-end;width: 50%;}#sk-container-id-1 div.sk-parallel-item:last-child::after {align-self: flex-start;width: 50%;}#sk-container-id-1 div.sk-parallel-item:only-child::after {width: 0;}#sk-container-id-1 div.sk-dashed-wrapped {border: 1px dashed gray;margin: 0 0.4em 0.5em 0.4em;box-sizing: border-box;padding-bottom: 0.4em;background-color: white;}#sk-container-id-1 div.sk-label label {font-family: monospace;font-weight: bold;display: inline-block;line-height: 1.2em;}#sk-container-id-1 div.sk-label-container {text-align: center;}#sk-container-id-1 div.sk-container {/* jupyter's `normalize.less` sets `[hidden] { display: none; }` but bootstrap.min.css set `[hidden] { display: none !important; }` so we also need the `!important` here to be able to override the default hidden behavior on the sphinx rendered scikit-learn.org. See: https://github.com/scikit-learn/scikit-learn/issues/21755 */display: inline-block !important;position: relative;}#sk-container-id-1 div.sk-text-repr-fallback {display: none;}</style><div id=\"sk-container-id-1\" class=\"sk-top-container\"><div class=\"sk-text-repr-fallback\"><pre>GridSearchCV(cv=4,\n",
       "             estimator=KerasClassifier(dropout=(0, 0), filters=(0, 0, 0), hidden_layer_size=0, learning_rate=0.0, model=&lt;function create_model at 0x7ff97c040360&gt;),\n",
       "             param_grid={&#x27;dropout&#x27;: [(0.1, 0.3), (0.25, 0.5)],\n",
       "                         &#x27;filters&#x27;: [(8, 16, 32), (16, 32, 64)],\n",
       "                         &#x27;hidden_layer_size&#x27;: [256, 512],\n",
       "                         &#x27;learning_rate&#x27;: [0.01, 0.001]})</pre><b>In a Jupyter environment, please rerun this cell to show the HTML representation or trust the notebook. <br />On GitHub, the HTML representation is unable to render, please try loading this page with nbviewer.org.</b></div><div class=\"sk-container\" hidden><div class=\"sk-item sk-dashed-wrapped\"><div class=\"sk-label-container\"><div class=\"sk-label sk-toggleable\"><input class=\"sk-toggleable__control sk-hidden--visually\" id=\"sk-estimator-id-1\" type=\"checkbox\" ><label for=\"sk-estimator-id-1\" class=\"sk-toggleable__label sk-toggleable__label-arrow\">GridSearchCV</label><div class=\"sk-toggleable__content\"><pre>GridSearchCV(cv=4,\n",
       "             estimator=KerasClassifier(dropout=(0, 0), filters=(0, 0, 0), hidden_layer_size=0, learning_rate=0.0, model=&lt;function create_model at 0x7ff97c040360&gt;),\n",
       "             param_grid={&#x27;dropout&#x27;: [(0.1, 0.3), (0.25, 0.5)],\n",
       "                         &#x27;filters&#x27;: [(8, 16, 32), (16, 32, 64)],\n",
       "                         &#x27;hidden_layer_size&#x27;: [256, 512],\n",
       "                         &#x27;learning_rate&#x27;: [0.01, 0.001]})</pre></div></div></div><div class=\"sk-parallel\"><div class=\"sk-parallel-item\"><div class=\"sk-item\"><div class=\"sk-label-container\"><div class=\"sk-label sk-toggleable\"><input class=\"sk-toggleable__control sk-hidden--visually\" id=\"sk-estimator-id-2\" type=\"checkbox\" ><label for=\"sk-estimator-id-2\" class=\"sk-toggleable__label sk-toggleable__label-arrow\">estimator: KerasClassifier</label><div class=\"sk-toggleable__content\"><pre>KerasClassifier(\n",
       "\tmodel=&lt;function create_model at 0x7ff97c040360&gt;\n",
       "\tbuild_fn=None\n",
       "\twarm_start=False\n",
       "\trandom_state=None\n",
       "\toptimizer=rmsprop\n",
       "\tloss=None\n",
       "\tmetrics=None\n",
       "\tbatch_size=None\n",
       "\tvalidation_batch_size=None\n",
       "\tverbose=1\n",
       "\tcallbacks=None\n",
       "\tvalidation_split=0.0\n",
       "\tshuffle=True\n",
       "\trun_eagerly=False\n",
       "\tepochs=1\n",
       "\tlearning_rate=0.0\n",
       "\thidden_layer_size=0\n",
       "\tfilters=(0, 0, 0)\n",
       "\tdropout=(0, 0)\n",
       "\tclass_weight=None\n",
       ")</pre></div></div></div><div class=\"sk-serial\"><div class=\"sk-item\"><div class=\"sk-estimator sk-toggleable\"><input class=\"sk-toggleable__control sk-hidden--visually\" id=\"sk-estimator-id-3\" type=\"checkbox\" ><label for=\"sk-estimator-id-3\" class=\"sk-toggleable__label sk-toggleable__label-arrow\">KerasClassifier</label><div class=\"sk-toggleable__content\"><pre>KerasClassifier(\n",
       "\tmodel=&lt;function create_model at 0x7ff97c040360&gt;\n",
       "\tbuild_fn=None\n",
       "\twarm_start=False\n",
       "\trandom_state=None\n",
       "\toptimizer=rmsprop\n",
       "\tloss=None\n",
       "\tmetrics=None\n",
       "\tbatch_size=None\n",
       "\tvalidation_batch_size=None\n",
       "\tverbose=1\n",
       "\tcallbacks=None\n",
       "\tvalidation_split=0.0\n",
       "\tshuffle=True\n",
       "\trun_eagerly=False\n",
       "\tepochs=1\n",
       "\tlearning_rate=0.0\n",
       "\thidden_layer_size=0\n",
       "\tfilters=(0, 0, 0)\n",
       "\tdropout=(0, 0)\n",
       "\tclass_weight=None\n",
       ")</pre></div></div></div></div></div></div></div></div></div></div>"
      ],
      "text/plain": [
       "GridSearchCV(cv=4,\n",
       "             estimator=KerasClassifier(dropout=(0, 0), filters=(0, 0, 0), hidden_layer_size=0, learning_rate=0.0, model=<function create_model at 0x7ff97c040360>),\n",
       "             param_grid={'dropout': [(0.1, 0.3), (0.25, 0.5)],\n",
       "                         'filters': [(8, 16, 32), (16, 32, 64)],\n",
       "                         'hidden_layer_size': [256, 512],\n",
       "                         'learning_rate': [0.01, 0.001]})"
      ]
     },
     "execution_count": 15,
     "metadata": {},
     "output_type": "execute_result"
    }
   ],
   "source": [
    "# Fit to the training data\n",
    "search.fit(X_train, y_train)"
   ]
  },
  {
   "cell_type": "code",
   "execution_count": 16,
   "metadata": {},
   "outputs": [],
   "source": [
    "# Store the best parameters\n",
    "best_params = search.best_params_"
   ]
  },
  {
   "attachments": {},
   "cell_type": "markdown",
   "metadata": {},
   "source": [
    "## Train model\n",
    "\n",
    "This unit trains the model on the dataset and saves it."
   ]
  },
  {
   "cell_type": "code",
   "execution_count": 17,
   "metadata": {},
   "outputs": [
    {
     "name": "stdout",
     "output_type": "stream",
     "text": [
      "Model: \"sequential_65\"\n",
      "_________________________________________________________________\n",
      " Layer (type)                Output Shape              Param #   \n",
      "=================================================================\n",
      " conv2d_325 (Conv2D)         (None, 198, 198, 16)      448       \n",
      "                                                                 \n",
      " batch_normalization_325 (B  (None, 198, 198, 16)      64        \n",
      " atchNormalization)                                              \n",
      "                                                                 \n",
      " max_pooling2d_195 (MaxPool  (None, 99, 99, 16)        0         \n",
      " ing2D)                                                          \n",
      "                                                                 \n",
      " dropout_195 (Dropout)       (None, 99, 99, 16)        0         \n",
      "                                                                 \n",
      " conv2d_326 (Conv2D)         (None, 97, 97, 32)        4640      \n",
      "                                                                 \n",
      " batch_normalization_326 (B  (None, 97, 97, 32)        128       \n",
      " atchNormalization)                                              \n",
      "                                                                 \n",
      " conv2d_327 (Conv2D)         (None, 95, 95, 32)        9248      \n",
      "                                                                 \n",
      " batch_normalization_327 (B  (None, 95, 95, 32)        128       \n",
      " atchNormalization)                                              \n",
      "                                                                 \n",
      " max_pooling2d_196 (MaxPool  (None, 47, 47, 32)        0         \n",
      " ing2D)                                                          \n",
      "                                                                 \n",
      " dropout_196 (Dropout)       (None, 47, 47, 32)        0         \n",
      "                                                                 \n",
      " conv2d_328 (Conv2D)         (None, 45, 45, 64)        18496     \n",
      "                                                                 \n",
      " batch_normalization_328 (B  (None, 45, 45, 64)        256       \n",
      " atchNormalization)                                              \n",
      "                                                                 \n",
      " conv2d_329 (Conv2D)         (None, 43, 43, 64)        36928     \n",
      "                                                                 \n",
      " batch_normalization_329 (B  (None, 43, 43, 64)        256       \n",
      " atchNormalization)                                              \n",
      "                                                                 \n",
      " max_pooling2d_197 (MaxPool  (None, 21, 21, 64)        0         \n",
      " ing2D)                                                          \n",
      "                                                                 \n",
      " dropout_197 (Dropout)       (None, 21, 21, 64)        0         \n",
      "                                                                 \n",
      " flatten_65 (Flatten)        (None, 28224)             0         \n",
      "                                                                 \n",
      " dense_130 (Dense)           (None, 256)               7225600   \n",
      "                                                                 \n",
      " dense_131 (Dense)           (None, 2)                 514       \n",
      "                                                                 \n",
      "=================================================================\n",
      "Total params: 7296706 (27.83 MB)\n",
      "Trainable params: 7296290 (27.83 MB)\n",
      "Non-trainable params: 416 (1.62 KB)\n",
      "_________________________________________________________________\n"
     ]
    }
   ],
   "source": [
    "# Create new model using best params\n",
    "model = create_model(dropout=best_params['dropout'], filters=best_params['filters'], hidden_layer_size=best_params['hidden_layer_size'], learning_rate=best_params['learning_rate'])\n",
    "# Show summary of model\n",
    "model.summary()"
   ]
  },
  {
   "cell_type": "code",
   "execution_count": 18,
   "metadata": {},
   "outputs": [
    {
     "name": "stdout",
     "output_type": "stream",
     "text": [
      "Epoch 1/10\n",
      "450/450 [==============================] - 55s 97ms/step - loss: 1.4450 - accuracy: 0.7494 - val_loss: 1.2662 - val_accuracy: 0.6478\n",
      "Epoch 2/10\n",
      "450/450 [==============================] - 55s 121ms/step - loss: 0.2901 - accuracy: 0.8833 - val_loss: 0.2630 - val_accuracy: 0.8928\n",
      "Epoch 3/10\n",
      "450/450 [==============================] - 54s 120ms/step - loss: 0.2212 - accuracy: 0.9044 - val_loss: 0.2579 - val_accuracy: 0.8906\n",
      "Epoch 4/10\n",
      "450/450 [==============================] - 54s 117ms/step - loss: 0.2329 - accuracy: 0.9100 - val_loss: 0.1776 - val_accuracy: 0.9344\n",
      "Epoch 5/10\n",
      "450/450 [==============================] - 52s 115ms/step - loss: 0.1894 - accuracy: 0.9339 - val_loss: 0.1640 - val_accuracy: 0.9489\n",
      "Epoch 6/10\n",
      "450/450 [==============================] - 43s 93ms/step - loss: 0.1685 - accuracy: 0.9411 - val_loss: 0.1143 - val_accuracy: 0.9544\n",
      "Epoch 7/10\n",
      "450/450 [==============================] - 52s 115ms/step - loss: 0.1423 - accuracy: 0.9361 - val_loss: 0.1645 - val_accuracy: 0.9422\n",
      "Epoch 8/10\n",
      "450/450 [==============================] - 61s 134ms/step - loss: 0.1428 - accuracy: 0.9411 - val_loss: 0.1314 - val_accuracy: 0.9528\n",
      "Epoch 9/10\n",
      "450/450 [==============================] - 54s 118ms/step - loss: 0.1543 - accuracy: 0.9450 - val_loss: 0.5625 - val_accuracy: 0.8283\n",
      "Epoch 10/10\n",
      "450/450 [==============================] - 91s 202ms/step - loss: 0.1284 - accuracy: 0.9522 - val_loss: 0.1578 - val_accuracy: 0.9356\n"
     ]
    }
   ],
   "source": [
    "# Train the model\n",
    "hist = model.fit(train_dataset, epochs=EPOCHS, steps_per_epoch = len(X_train) // BATCH_SIZE, validation_data=val_dataset)"
   ]
  },
  {
   "cell_type": "code",
   "execution_count": 19,
   "metadata": {},
   "outputs": [
    {
     "name": "stderr",
     "output_type": "stream",
     "text": [
      "/workspace/.pyenv_mirror/user/3.11.6/lib/python3.11/site-packages/keras/src/engine/training.py:3079: UserWarning: You are saving your model as an HDF5 file via `model.save()`. This file format is considered legacy. We recommend using instead the native Keras format, e.g. `model.save('my_model.keras')`.\n",
      "  saving_api.save_model(\n"
     ]
    }
   ],
   "source": [
    "# Save the model\n",
    "model.save(os.path.join(dataset.ROOT_DIR, f'{MODEL_NAME}.h5'))"
   ]
  },
  {
   "cell_type": "code",
   "execution_count": 20,
   "metadata": {},
   "outputs": [
    {
     "data": {
      "image/png": "[encoded data removed]",
      "text/plain": [
       "<Figure size 1200x400 with 2 Axes>"
      ]
     },
     "metadata": {},
     "output_type": "display_data"
    }
   ],
   "source": [
    "# Store metrics from history\n",
    "training_accuracy = hist.history['accuracy']\n",
    "training_loss = hist.history['loss']\n",
    "validation_accuracy = hist.history['val_accuracy']\n",
    "validation_loss = hist.history['val_loss']\n",
    "\n",
    "# Calculate epochs\n",
    "epochs = range(1, len(training_accuracy) + 1)\n",
    "\n",
    "sns.set(style='darkgrid')\n",
    "# Plot accuracy\n",
    "plt.figure(figsize=(12, 4))\n",
    "plt.subplot(1, 2, 1)\n",
    "plt.plot(epochs, training_accuracy, 'b', label='Training Accuracy')\n",
    "plt.plot(epochs, validation_accuracy, 'r', label='Validation Accuracy')\n",
    "plt.title('Training and Validation Accuracy')\n",
    "plt.xlabel('Epochs')\n",
    "plt.ylabel('Accuracy')\n",
    "plt.legend()\n",
    "\n",
    "# Plot loss\n",
    "plt.subplot(1, 2, 2)\n",
    "plt.plot(epochs, training_loss, 'b', label='Training Loss')\n",
    "plt.plot(epochs, validation_loss, 'r', label='Validation Loss')\n",
    "plt.title('Training and Validation Loss')\n",
    "plt.xlabel('Epochs')\n",
    "plt.ylabel('Loss')\n",
    "plt.legend()\n",
    "\n",
    "plt.tight_layout()\n",
    "save_figure('metrics_over_epochs.png')  # Save figure\n",
    "plt.show()"
   ]
  },
  {
   "attachments": {},
   "cell_type": "markdown",
   "metadata": {},
   "source": [
    "## Evaluate model\n",
    "\n",
    "This unit evaluates the model on the test dataset to provide metrics on data which the model has never seen."
   ]
  },
  {
   "cell_type": "code",
   "execution_count": 21,
   "metadata": {},
   "outputs": [
    {
     "name": "stdout",
     "output_type": "stream",
     "text": [
      "450/450 [==============================] - 11s 20ms/step - loss: 0.1715 - accuracy: 0.9294\n"
     ]
    }
   ],
   "source": [
    "# Evaluate on test data\n",
    "loss, accuracy = model.evaluate(test_dataset)"
   ]
  },
  {
   "cell_type": "code",
   "execution_count": 22,
   "metadata": {},
   "outputs": [
    {
     "data": {
      "image/png": "[encoded data removed]",
      "text/plain": [
       "<Figure size 600x800 with 1 Axes>"
      ]
     },
     "metadata": {},
     "output_type": "display_data"
    }
   ],
   "source": [
    "sns.set(style='darkgrid')\n",
    "\n",
    "# Plot the evaluation metrics\n",
    "plt.figure(figsize=(6, 8))\n",
    "\n",
    "# Bar plot for accuracy and loss\n",
    "metrics = ['Accuracy', 'Loss']\n",
    "values = [accuracy, loss]\n",
    "\n",
    "plt.bar(metrics, values, color=['blue', 'red'])\n",
    "plt.xlabel('Metrics')\n",
    "plt.ylabel('Values')\n",
    "\n",
    "# Display the values on the bars\n",
    "for i in range(len(metrics)):\n",
    "    plt.text(i, values[i], f'{values[i]:.2f}', ha='center', va='bottom', fontsize=12)\n",
    "\n",
    "plt.title('Accuracy and Loss Metrics')\n",
    "save_figure('evaluation_metrics.png')  # Save figure\n",
    "plt.show()\n"
   ]
  },
  {
   "cell_type": "code",
   "execution_count": 23,
   "metadata": {},
   "outputs": [
    {
     "name": "stdout",
     "output_type": "stream",
     "text": [
      "19/19 [==============================] - 2s 102ms/step\n"
     ]
    }
   ],
   "source": [
    "# Perform predictions and convert to [1, 0, 1, 0]\n",
    "y_pred = model.predict(X_test)\n",
    "y_pred = np.argmax(y_pred, axis=1)\n",
    "y_test = np.argmax(y_test, axis=1)"
   ]
  },
  {
   "cell_type": "code",
   "execution_count": 24,
   "metadata": {},
   "outputs": [
    {
     "name": "stdout",
     "output_type": "stream",
     "text": [
      "Confusion Matrix:\n",
      "[[280  10]\n",
      " [ 53 257]]\n"
     ]
    }
   ],
   "source": [
    "# Generate confusion matrix\n",
    "cm = confusion_matrix(y_test, y_pred)\n",
    "print(\"Confusion Matrix:\")\n",
    "print(cm)"
   ]
  },
  {
   "cell_type": "code",
   "execution_count": 25,
   "metadata": {},
   "outputs": [
    {
     "data": {
      "image/png": "[encoded data removed]",
      "text/plain": [
       "<Figure size 800x600 with 2 Axes>"
      ]
     },
     "metadata": {},
     "output_type": "display_data"
    }
   ],
   "source": [
    "# Plot confusion matrix\n",
    "class_labels = ['Male', 'Female']\n",
    "\n",
    "plt.figure(figsize=(8, 6))\n",
    "sns.set(font_scale=1.2)\n",
    "\n",
    "sns.heatmap(cm, annot=True, fmt=\"d\", cmap=\"Blues\",\n",
    "            xticklabels=class_labels, yticklabels=class_labels)\n",
    "\n",
    "plt.xlabel('Predicted')\n",
    "plt.ylabel('Actual')\n",
    "plt.title('Confusion Matrix')\n",
    "\n",
    "save_figure('confusion_matrix')  # Save figure\n",
    "plt.show()"
   ]
  },
  {
   "cell_type": "code",
   "execution_count": 26,
   "metadata": {},
   "outputs": [
    {
     "name": "stdout",
     "output_type": "stream",
     "text": [
      "Accuracy: 0.895\n",
      "Precision: 0.9625468164794008\n",
      "Recall: 0.8290322580645161\n",
      "F1-Score: 0.8908145580589254\n"
     ]
    }
   ],
   "source": [
    "# Calculate metrics\n",
    "accuracy = accuracy_score(y_test, y_pred)\n",
    "precision = precision_score(y_test, y_pred)\n",
    "recall = recall_score(y_test, y_pred)\n",
    "f1 = f1_score(y_test, y_pred)\n",
    "\n",
    "print(\"Accuracy:\", accuracy)\n",
    "print(\"Precision:\", precision)\n",
    "print(\"Recall:\", recall)\n",
    "print(\"F1-Score:\", f1)"
   ]
  },
  {
   "cell_type": "code",
   "execution_count": 27,
   "metadata": {},
   "outputs": [],
   "source": [
    "# Generate classification report\n",
    "target_names = ['Male', 'Female']\n",
    "report = classification_report(y_test, y_pred, target_names=target_names)"
   ]
  },
  {
   "cell_type": "code",
   "execution_count": 28,
   "metadata": {},
   "outputs": [],
   "source": [
    "# Save report\n",
    "with open('classification_report.txt', 'w') as file:\n",
    "    file.write(report)"
   ]
  }
 ],
 "metadata": {
  "kernelspec": {
   "display_name": "Python 3 (ipykernel)",
   "language": "python",
   "name": "python3"
  },
  "language_info": {
   "codemirror_mode": {
    "name": "ipython",
    "version": 3
   },
   "file_extension": ".py",
   "mimetype": "text/x-python",
   "name": "python",
   "nbconvert_exporter": "python",
   "pygments_lexer": "ipython3",
   "version": "3.11.6"
  }
 },
 "nbformat": 4,
 "nbformat_minor": 2
}
